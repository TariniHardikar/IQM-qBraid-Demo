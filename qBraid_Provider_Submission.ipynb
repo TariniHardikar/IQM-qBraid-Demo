{
 "cells": [
  {
   "cell_type": "code",
   "execution_count": null,
   "id": "1407561b-1df8-45e8-b222-8ec18c873c8d",
   "metadata": {},
   "outputs": [],
   "source": [
    "from qbraid.runtime import QbraidProvider\n",
    "from qiskit import QuantumCircuit\n",
    "\n",
    "circuit = QuantumCircuit(2, 2)\n",
    "circuit.h(0)\n",
    "circuit.cx(0, 1)\n",
    "\n",
    "circuit.measure_all()\n",
    "\n",
    "provider = QbraidProvider()\n",
    "device = provider.get_device(\"iqm_garnet\")\n",
    "\n",
    "# Submit your circuit (any supported type: qiskit, cirq, braket, qasm3, etc.)\n",
    "job = device.run(circuit, shots=1000)\n",
    "\n",
    "# Get results\n",
    "result = job.result()\n",
    "counts = result.data.get_counts()"
   ]
  },
  {
   "cell_type": "code",
   "execution_count": null,
   "id": "e7aadd14-98b1-40cf-83f3-70a3c3f333cf",
   "metadata": {},
   "outputs": [],
   "source": []
  }
 ],
 "metadata": {
  "kernelspec": {
   "display_name": "Python 3 [iqm-demo]",
   "language": "python",
   "name": "python3_iqm_de_9ymsvk"
  },
  "language_info": {
   "codemirror_mode": {
    "name": "ipython",
    "version": 3
   },
   "file_extension": ".py",
   "mimetype": "text/x-python",
   "name": "python",
   "nbconvert_exporter": "python",
   "pygments_lexer": "ipython3",
   "version": "3.11.9"
  }
 },
 "nbformat": 4,
 "nbformat_minor": 5
}
